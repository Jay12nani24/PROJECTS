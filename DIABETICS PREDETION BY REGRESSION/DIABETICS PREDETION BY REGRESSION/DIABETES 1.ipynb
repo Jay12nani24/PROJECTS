import numpy as np
import pandas as pd
from sklearn.preprocessing import StandardScaler
from sklearn.model_selection import train_test_split
from sklearn.svm impor+
from sklearn.metrics import mean_squared_error, r2_score

# loading the dataset (assumed to have a 'GlucoseLevel' column as the target)
# Replace '/content/diabetes.csv' with the path to your dataset
diabetes_dataset = pd.read_csv("D:\\PROJECTS\\DIABETES PREDECTION\\DATA SET\\diabetes.csv")

# printing the first 5 rows of the dataset
print(diabetes_dataset.head())

# number of rows and Columns in this dataset
print(diabetes_dataset.shape)

# getting the statistical measures of the data
print(diabetes_dataset.describe())

# Assuming 'GlucoseLevel' is the target variable
# separating the data and labels
X = diabetes_dataset.drop(columns='GlucoseLevel', axis=1)
Y = diabetes_dataset['GlucoseLevel']

print(X)
print(Y)

# Data Standardization
scaler = StandardScaler()
scaler.fit(X)
standardized_data = scaler.transform(X)

print(standardized_data)
print(X)
print(Y)

# Train Test Split
X_train, X_test, Y_train, Y_test = train_test_split(X, Y, test_size=0.2, random_state=2)
print(X.shape, X_train.shape, X_test.shape)

# Training the Model
regressor = SVR(kernel='linear')

# training the Support Vector Regressor
regressor.fit(X_train, Y_train)

# Model Evaluation
# predictions on the training data
X_train_prediction = regressor.predict(X_train)
train_mse = mean_squared_error(Y_train, X_train_prediction)
train_r2 = r2_score(Y_train, X_train_prediction)
print(f'MSE on the training data: {train_mse}')
print(f'R^2 score on the training data: {train_r2}')

# predictions on the test data
X_test_prediction = regressor.predict(X_test)
test_mse = mean_squared_error(Y_test, X_test_prediction)
test_r2 = r2_score(Y_test, X_test_prediction)
print(f'MSE on the test data: {test_mse}')
print(f'R^2 score on the test data: {test_r2}')

# Making a Predictive System
# Initialize an empty tuple
input_data = ()
print("1. Pregnancies\n2. Glucose\n3. BloodPressure\n4. SkinThickness\n5. Insulin\n6. BMI\n7. DiabetesPedigreeFunction\n8. Age")

# Get user input for each element
for i in range(8):
    user_input = float(input(f"Enter the patient's detail {i + 1}: "))
    input_data += (user_input,)

# Now you have the user-entered data in the input_data tuple
print("User entered data:", input_data)

# changing the input_data to numpy array
input_data_as_numpy_array = np.asarray(input_data)

# reshape the array as we are predicting for one instance
input_data_reshaped = input_data_as_numpy_array.reshape(1, -1)

# standardize the input data
std_data = scaler.transform(input_data_reshaped)
print(std_data)

# make prediction
predicted_glucose_level = regressor.predict(std_data)
print(f'Predicted Glucose Level: {predicted_glucose_level[0]} mg/dL')

# Interpret the glucose level
if predicted_glucose_level < 70:
    diabetic_status = 'The person is hypoglycemic (low blood sugar)'
elif 70 <= predicted_glucose_level <= 110:
    diabetic_status = 'The person has a normal blood glucose level'
else:
    diabetic_status = 'The person is hyperglycemic (high blood sugar)'

print(diabetic_status)
